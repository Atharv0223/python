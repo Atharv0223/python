{
 "cells": [
  {
   "cell_type": "code",
   "execution_count": 7,
   "metadata": {},
   "outputs": [
    {
     "name": "stdout",
     "output_type": "stream",
     "text": [
      "8\n",
      "\n",
      "*\n",
      "**\n",
      "***\n",
      "****\n",
      "*****\n",
      "******\n",
      "*******\n"
     ]
    }
   ],
   "source": [
    "x= int(input())\n",
    "for _ in range(x):\n",
    "    print('*'*_)"
   ]
  },
  {
   "cell_type": "code",
   "execution_count": 36,
   "metadata": {},
   "outputs": [
    {
     "name": "stdout",
     "output_type": "stream",
     "text": [
      "5\n",
      "1\n",
      "22\n",
      "333\n",
      "4444\n",
      "55555\n",
      "000000\n"
     ]
    }
   ],
   "source": [
    "x= int(input())\n",
    "l=''.join([str(_) for _ in range(1,x+1)])\n",
    "l1=1\n",
    "for _ in l:\n",
    "    print(_*l1)\n",
    "    l1+=1\n",
    "    if l1>len(l):\n",
    "        print('0'*(l1))\n",
    "        "
   ]
  },
  {
   "cell_type": "code",
   "execution_count": 21,
   "metadata": {},
   "outputs": [
    {
     "data": {
      "text/plain": [
       "'1111'"
      ]
     },
     "execution_count": 21,
     "metadata": {},
     "output_type": "execute_result"
    }
   ],
   "source": [
    "'1'*i"
   ]
  },
  {
   "cell_type": "code",
   "execution_count": 54,
   "metadata": {},
   "outputs": [
    {
     "name": "stdout",
     "output_type": "stream",
     "text": [
      "5\n",
      "\n",
      "2\n",
      "34\n",
      "456\n",
      "6789\n"
     ]
    }
   ],
   "source": [
    "x= int(input())\n",
    "num=2\n",
    "for i in range(x):\n",
    "    for j in range(x):\n",
    "        if j<i:\n",
    "            print(num,end='')\n",
    "            num+=1\n",
    "    if i >1:\n",
    "        num-=1\n",
    "    print()"
   ]
  },
  {
   "cell_type": "code",
   "execution_count": 59,
   "metadata": {},
   "outputs": [
    {
     "name": "stdout",
     "output_type": "stream",
     "text": [
      "8\n",
      "\n",
      "\n",
      "1\n",
      "12\n",
      "123\n",
      "1234\n",
      "12345\n",
      "123456\n"
     ]
    }
   ],
   "source": [
    "x= int(input())\n",
    "for i in range(x):\n",
    "    for j in range(1,i):\n",
    "        print(j,end='')\n",
    "    print()"
   ]
  },
  {
   "cell_type": "code",
   "execution_count": 58,
   "metadata": {},
   "outputs": [
    {
     "name": "stdout",
     "output_type": "stream",
     "text": [
      "8\n",
      "********\n",
      "*******\n",
      "******\n",
      "*****\n",
      "****\n",
      "***\n",
      "**\n",
      "*\n"
     ]
    }
   ],
   "source": [
    "x= int(input())\n",
    "while x!=0:\n",
    "    print('*'*x)\n",
    "    x-=1"
   ]
  },
  {
   "cell_type": "markdown",
   "metadata": {},
   "source": [
    "1*5.. 2 3 2 1"
   ]
  },
  {
   "cell_type": "code",
   "execution_count": 53,
   "metadata": {},
   "outputs": [
    {
     "name": "stdout",
     "output_type": "stream",
     "text": [
      "\n",
      "1\n",
      "22\n",
      "333\n",
      "2222\n",
      "11111\n"
     ]
    }
   ],
   "source": [
    "j=3\n",
    "for i in range(5):\n",
    "    print(str(i)*i)\n",
    "    if i>=3:\n",
    "        while j>1:\n",
    "            j-=1\n",
    "            i+=1\n",
    "            print(str(j)*i)\n",
    "        break"
   ]
  },
  {
   "cell_type": "code",
   "execution_count": 70,
   "metadata": {},
   "outputs": [
    {
     "name": "stdout",
     "output_type": "stream",
     "text": [
      "5\n",
      "\n",
      "12345\n",
      "1234\n",
      "123\n",
      "12\n",
      "1"
     ]
    }
   ],
   "source": [
    "#1.3\n",
    "x= int(input())\n",
    "while x>0:\n",
    "    print()\n",
    "    j,i=0,1\n",
    "    for _ in range(x):\n",
    "        while j<x:\n",
    "            print(i+j,end='')\n",
    "            j+=1\n",
    "    x-=1"
   ]
  },
  {
   "cell_type": "code",
   "execution_count": 38,
   "metadata": {},
   "outputs": [
    {
     "name": "stdout",
     "output_type": "stream",
     "text": [
      "5\n",
      "      1\n",
      "     1 2\n",
      "    1 2 3\n",
      "   1 2 3 4\n",
      "  1 2 3 4 5\n"
     ]
    }
   ],
   "source": [
    "x= int(input())\n",
    "t=x\n",
    "l1=[str(_) for _ in range(1,x+1)]\n",
    "for _ in range(1,x+1):\n",
    "    l=' '.join(l1)\n",
    "for i in range(1,len(l)+1,2):\n",
    "    print(f\"{' '*(t)} {l[:i]}\")\n",
    "    t-=1"
   ]
  },
  {
   "cell_type": "code",
   "execution_count": 45,
   "metadata": {},
   "outputs": [
    {
     "name": "stdout",
     "output_type": "stream",
     "text": [
      "5\n",
      "     \n",
      "    * \n",
      "   * * \n",
      "  * * * \n",
      " * * * * \n",
      "* * * * * \n"
     ]
    }
   ],
   "source": [
    "x=int(input())\n",
    "t=x\n",
    "for _ in range(x+1):\n",
    "    print(' '*t+'* '*_)\n",
    "    t-=1"
   ]
  },
  {
   "cell_type": "code",
   "execution_count": 60,
   "metadata": {},
   "outputs": [
    {
     "name": "stdout",
     "output_type": "stream",
     "text": [
      "5\n",
      "          * \n",
      "        * * * \n",
      "      * * * * * \n",
      "    * * * * * * * \n",
      "  * * * * * * * * * \n",
      "* * * * * * * * * * * \n"
     ]
    }
   ],
   "source": [
    "x= int(input())\n",
    "t=2*x\n",
    "for _ in range((x+1)*2):\n",
    "    if _%2==1:\n",
    "        print(' '*t+ '* '*_)\n",
    "        t-=2\n",
    "    "
   ]
  }
 ],
 "metadata": {
  "kernelspec": {
   "display_name": "Python 3",
   "language": "python",
   "name": "python3"
  },
  "language_info": {
   "codemirror_mode": {
    "name": "ipython",
    "version": 3
   },
   "file_extension": ".py",
   "mimetype": "text/x-python",
   "name": "python",
   "nbconvert_exporter": "python",
   "pygments_lexer": "ipython3",
   "version": "3.8.5"
  }
 },
 "nbformat": 4,
 "nbformat_minor": 4
}
